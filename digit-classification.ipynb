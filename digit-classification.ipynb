{
 "cells": [
  {
   "cell_type": "code",
   "execution_count": 1,
   "id": "ddb90d69",
   "metadata": {},
   "outputs": [],
   "source": [
    "import tensorflow as tf\n",
    "from tensorflow import keras\n",
    "from tensorflow.keras import layers"
   ]
  },
  {
   "cell_type": "code",
   "execution_count": 2,
   "id": "0622fbd1",
   "metadata": {},
   "outputs": [],
   "source": [
    "from keras.datasets import mnist\n",
    "import matplotlib.pyplot as plt\n",
    "import numpy as np"
   ]
  },
  {
   "cell_type": "markdown",
   "id": "c317759c",
   "metadata": {},
   "source": [
    "#### Load the training and testing data from the pre-made dataset by keras"
   ]
  },
  {
   "cell_type": "code",
   "execution_count": 44,
   "id": "98e04bca",
   "metadata": {},
   "outputs": [],
   "source": [
    "(train_X, train_y), (test_X, test_y) = mnist.load_data()"
   ]
  },
  {
   "cell_type": "code",
   "execution_count": 45,
   "id": "2f9d3f58",
   "metadata": {},
   "outputs": [
    {
     "name": "stdout",
     "output_type": "stream",
     "text": [
      "Shapes of the data\n",
      "X_train: (60000, 28, 28)\n",
      "Y_train: (60000,)\n",
      "\n",
      "X_test: (10000, 28, 28)\n",
      "Y_test: (10000,) \n"
     ]
    }
   ],
   "source": [
    "# print out what the data looks like\n",
    "print(\"Shapes of the data\\nX_train: {}\\nY_train: {}\\n\\nX_test: {}\\nY_test: {} \".format(train_X.shape,train_y.shape,\n",
    "                                                                                     test_X.shape, test_y.shape))"
   ]
  },
  {
   "cell_type": "code",
   "execution_count": 46,
   "id": "31977dd7",
   "metadata": {},
   "outputs": [
    {
     "name": "stdout",
     "output_type": "stream",
     "text": [
      "5\n"
     ]
    },
    {
     "data": {
      "image/png": "[encoded data removed]",
      "text/plain": [
       "<Figure size 432x288 with 1 Axes>"
      ]
     },
     "metadata": {
      "needs_background": "light"
     },
     "output_type": "display_data"
    }
   ],
   "source": [
    "#what does each piece of data look like? \n",
    "plt.imshow(train_X[0], cmap = 'gist_gray')\n",
    "\n",
    "#print \"answer\" for this piece\n",
    "print(train_y[0])"
   ]
  },
  {
   "cell_type": "markdown",
   "id": "3633234e",
   "metadata": {},
   "source": [
    "X is used to denote the 28x28 matrix data that represents a handwritten digit\n",
    "y is the correct \"answer\" for each corresponding X\n",
    "\n",
    "train_X, and train_y will be used to train the model by giving the network the question(X) and solutions(y)\n",
    "\n",
    "test_X, and test_y will be used to evalue the model"
   ]
  },
  {
   "cell_type": "code",
   "execution_count": 47,
   "id": "612533f1",
   "metadata": {},
   "outputs": [],
   "source": [
    "#normalize the values of x and y so they are between 0 and 1, this is important for neural network based models\n",
    "train_X = train_X/255\n",
    "test_X = test_X/255"
   ]
  },
  {
   "cell_type": "code",
   "execution_count": 48,
   "id": "819660ad",
   "metadata": {},
   "outputs": [],
   "source": [
    "# build a sequential neural network \n",
    "model = keras.Sequential([\n",
    "    layers.Flatten(input_shape = (28, 28)), # use each pixel as an input\n",
    "    layers.Dense(128, activation = 'relu'), \n",
    "    layers.Dense(10) # output a probability vector for the 10 different possible digits\n",
    "])"
   ]
  },
  {
   "cell_type": "code",
   "execution_count": 49,
   "id": "bf9522a8",
   "metadata": {},
   "outputs": [],
   "source": [
    "#compile the model with built in optimizer \"adam\" and appropriate loss function\n",
    "model.compile(optimizer = 'adam', loss = keras.losses.SparseCategoricalCrossentropy(from_logits = True), \n",
    "             metrics = ['accuracy'])"
   ]
  },
  {
   "cell_type": "code",
   "execution_count": 50,
   "id": "73f6297b",
   "metadata": {},
   "outputs": [
    {
     "name": "stdout",
     "output_type": "stream",
     "text": [
      "Epoch 1/10\n",
      "1875/1875 [==============================] - 2s 1ms/step - loss: 0.2598 - accuracy: 0.9266\n",
      "Epoch 2/10\n",
      "1875/1875 [==============================] - 2s 1ms/step - loss: 0.1163 - accuracy: 0.9656\n",
      "Epoch 3/10\n",
      "1875/1875 [==============================] - 2s 1ms/step - loss: 0.0800 - accuracy: 0.9759\n",
      "Epoch 4/10\n",
      "1875/1875 [==============================] - 2s 1ms/step - loss: 0.0603 - accuracy: 0.9813\n",
      "Epoch 5/10\n",
      "1875/1875 [==============================] - 2s 1ms/step - loss: 0.0468 - accuracy: 0.9858\n",
      "Epoch 6/10\n",
      "1875/1875 [==============================] - 2s 1ms/step - loss: 0.0365 - accuracy: 0.9885\n",
      "Epoch 7/10\n",
      "1875/1875 [==============================] - 2s 1ms/step - loss: 0.0292 - accuracy: 0.9908\n",
      "Epoch 8/10\n",
      "1875/1875 [==============================] - 2s 1ms/step - loss: 0.0238 - accuracy: 0.9928\n",
      "Epoch 9/10\n",
      "1875/1875 [==============================] - 2s 1ms/step - loss: 0.0196 - accuracy: 0.9937\n",
      "Epoch 10/10\n",
      "1875/1875 [==============================] - 2s 1ms/step - loss: 0.0164 - accuracy: 0.9951\n"
     ]
    },
    {
     "data": {
      "text/plain": [
       "<keras.callbacks.History at 0x7fc5052947c0>"
      ]
     },
     "execution_count": 50,
     "metadata": {},
     "output_type": "execute_result"
    }
   ],
   "source": [
    "#train model\n",
    "model.fit(train_X, train_y, epochs=10)"
   ]
  },
  {
   "cell_type": "code",
   "execution_count": 51,
   "id": "3f5db4b9",
   "metadata": {},
   "outputs": [
    {
     "name": "stdout",
     "output_type": "stream",
     "text": [
      "313/313 - 0s - loss: 0.0758 - accuracy: 0.9793 - 317ms/epoch - 1ms/step\n",
      "\n",
      "Test accuracy: 97.92999999999999%\n"
     ]
    }
   ],
   "source": [
    "# test the model on the testing data\n",
    "test_loss, test_acc = model.evaluate(test_X, test_y, verbose = 2)\n",
    "print(\"\\nTest accuracy: {}%\".format(100*round(test_acc, 4)))"
   ]
  },
  {
   "cell_type": "code",
   "execution_count": 25,
   "id": "6ae35997",
   "metadata": {},
   "outputs": [
    {
     "name": "stdout",
     "output_type": "stream",
     "text": [
      "313/313 [==============================] - 0s 742us/step\n"
     ]
    }
   ],
   "source": [
    "#for further predictions, convert output to a probability model \n",
    "probability_model = tf.keras.Sequential([model, tf.keras.layers.Softmax()])\n",
    "prediction = probability_model.predict(test_X)"
   ]
  },
  {
   "cell_type": "code",
   "execution_count": 29,
   "id": "f45f6cf6",
   "metadata": {
    "scrolled": true
   },
   "outputs": [
    {
     "name": "stdout",
     "output_type": "stream",
     "text": [
      "Model prediction for item 1 in the test_data: [7]\n",
      "\n",
      "\n",
      "Actual Result:\n"
     ]
    },
    {
     "data": {
      "image/png": "[encoded data removed]",
      "text/plain": [
       "<Figure size 432x288 with 1 Axes>"
      ]
     },
     "metadata": {
      "needs_background": "light"
     },
     "output_type": "display_data"
    }
   ],
   "source": [
    "# check to see how the predictions worked\n",
    "predicted = np.where(prediction[0] == max(prediction[0]))[0] # take the max probability of the prediction vector\n",
    "print(\"Model prediction for item 1 in the test_data: {}\".format(predicted))\n",
    "\n",
    "print(\"\\n\\nActual Result:\")\n",
    "plt.imshow(test_X[0], cmap = 'gist_gray')\n",
    "plt.title(\"Item 1\")\n",
    "plt.show()"
   ]
  },
  {
   "cell_type": "code",
   "execution_count": null,
   "id": "aa029c3a",
   "metadata": {},
   "outputs": [],
   "source": []
  },
  {
   "cell_type": "markdown",
   "id": "21965a4b",
   "metadata": {},
   "source": [
    "### How does the same model run on compressed data?\n",
    "Here, we will compress the data and run the same model to test the difference in performance"
   ]
  },
  {
   "cell_type": "code",
   "execution_count": 30,
   "id": "cbafb1a6",
   "metadata": {},
   "outputs": [
    {
     "data": {
      "text/plain": [
       "Text(0.5, 1.0, 'Original')"
      ]
     },
     "execution_count": 30,
     "metadata": {},
     "output_type": "execute_result"
    },
    {
     "data": {
      "image/png": "[encoded data removed]",
      "text/plain": [
       "<Figure size 432x288 with 2 Axes>"
      ]
     },
     "metadata": {
      "needs_background": "light"
     },
     "output_type": "display_data"
    }
   ],
   "source": [
    "#reducing size:\n",
    "def reduce(x):\n",
    "    \"\"\"\n",
    "    Takes a 28 by 28 image and converts it to 14 by 14\n",
    "    \n",
    "    \"\"\"\n",
    "    avg = []\n",
    "    for i in range(int(len(x)/2)):\n",
    "        for j in range(int(len(x)/2)):\n",
    "            avg.append((int(x[i*2][j*2]) + int(x[i*2][(j*2)+1]) + int(x[(i*2)+1][j*2]) + int(x[(i*2)+1][(j*2)+1])))\n",
    "    return np.array(avg).reshape(14, 14)\n",
    "\n",
    "# how does the reduced look compared to the original?\n",
    "fig, (ax1, ax2) = plt.subplots(1, 2)\n",
    "ax1.imshow(reduce(train_X[0]))\n",
    "ax1.set_title(\"Compressed\")\n",
    "ax2.imshow(train_X[0])\n",
    "ax2.set_title(\"Original\")"
   ]
  },
  {
   "cell_type": "code",
   "execution_count": 38,
   "id": "2d2f21c6",
   "metadata": {},
   "outputs": [],
   "source": [
    "(train_X, train_y), (test_X, test_y) = mnist.load_data()\n",
    "reduced_train_X = np.array([reduce(i) for i in train_X])\n",
    "reduced_test_X = np.array([reduce(i) for i in test_X])\n",
    "#train_y and test_y stay the same"
   ]
  },
  {
   "cell_type": "code",
   "execution_count": 39,
   "id": "a76c40ac",
   "metadata": {},
   "outputs": [],
   "source": [
    "#now divide by 255*4 since the pixels were grouped into fours\n",
    "reduced_train_X = reduced_train_X/(255*4)\n",
    "reduced_test_X = reduced_test_X/(255*4)"
   ]
  },
  {
   "cell_type": "code",
   "execution_count": null,
   "id": "dd718b64",
   "metadata": {},
   "outputs": [],
   "source": []
  },
  {
   "cell_type": "code",
   "execution_count": 40,
   "id": "10ca63ab",
   "metadata": {},
   "outputs": [],
   "source": [
    "#build the same network to classify digits\n",
    "compressed_model = keras.Sequential([\n",
    "    layers.Flatten(input_shape = (14, 14)), # now the input is 14x14\n",
    "    layers.Dense(128, activation = 'relu'),\n",
    "    layers.Dense(10) #output vector stays the same\n",
    "])"
   ]
  },
  {
   "cell_type": "code",
   "execution_count": 41,
   "id": "8e1c8593",
   "metadata": {},
   "outputs": [],
   "source": [
    "#same compiling setup\n",
    "compressed_model.compile(optimizer = 'adam',\n",
    "              loss = keras.losses.SparseCategoricalCrossentropy(from_logits = True),\n",
    "              metrics = ['accuracy'])"
   ]
  },
  {
   "cell_type": "code",
   "execution_count": 42,
   "id": "0c437054",
   "metadata": {},
   "outputs": [
    {
     "name": "stdout",
     "output_type": "stream",
     "text": [
      "Epoch 1/10\n",
      "1875/1875 [==============================] - 2s 902us/step - loss: 0.3678 - accuracy: 0.8999\n",
      "Epoch 2/10\n",
      "1875/1875 [==============================] - 2s 881us/step - loss: 0.1837 - accuracy: 0.9467\n",
      "Epoch 3/10\n",
      "1875/1875 [==============================] - 2s 896us/step - loss: 0.1345 - accuracy: 0.9605\n",
      "Epoch 4/10\n",
      "1875/1875 [==============================] - 2s 921us/step - loss: 0.1053 - accuracy: 0.9696\n",
      "Epoch 5/10\n",
      "1875/1875 [==============================] - 2s 926us/step - loss: 0.0868 - accuracy: 0.9744\n",
      "Epoch 6/10\n",
      "1875/1875 [==============================] - 2s 932us/step - loss: 0.0742 - accuracy: 0.9781\n",
      "Epoch 7/10\n",
      "1875/1875 [==============================] - 2s 905us/step - loss: 0.0643 - accuracy: 0.9804\n",
      "Epoch 8/10\n",
      "1875/1875 [==============================] - 2s 899us/step - loss: 0.0571 - accuracy: 0.9828\n",
      "Epoch 9/10\n",
      "1875/1875 [==============================] - 2s 891us/step - loss: 0.0504 - accuracy: 0.9846\n",
      "Epoch 10/10\n",
      "1875/1875 [==============================] - 2s 938us/step - loss: 0.0453 - accuracy: 0.9863\n"
     ]
    },
    {
     "data": {
      "text/plain": [
       "<keras.callbacks.History at 0x7fc501524af0>"
      ]
     },
     "execution_count": 42,
     "metadata": {},
     "output_type": "execute_result"
    }
   ],
   "source": [
    "# training compressed model\n",
    "compressed_model.fit(reduced_train_X, train_y, epochs = 10)"
   ]
  },
  {
   "cell_type": "code",
   "execution_count": 43,
   "id": "45c20287",
   "metadata": {},
   "outputs": [
    {
     "name": "stdout",
     "output_type": "stream",
     "text": [
      "313/313 - 0s - loss: 0.0701 - accuracy: 0.9780 - 274ms/epoch - 877us/step\n",
      "\n",
      "Test accuracy: 97.8%\n"
     ]
    }
   ],
   "source": [
    "# test the accuracy\n",
    "test_loss, test_acc = compressed_model.evaluate(reduced_test_X, test_y, verbose = 2)\n",
    "print(\"\\nTest accuracy: {}%\".format(100*round(test_acc, 4)))"
   ]
  },
  {
   "cell_type": "code",
   "execution_count": 59,
   "id": "a474ad47",
   "metadata": {},
   "outputs": [
    {
     "name": "stdout",
     "output_type": "stream",
     "text": [
      "Total Trainable Parameters\n",
      "\n",
      "Original: 101770\n",
      "Compressed: 26506\n",
      "Compressed is 3.84 times smaller than the original\n"
     ]
    }
   ],
   "source": [
    "#compare the network sizes\n",
    "\n",
    "#original\n",
    "original = 28 * 28 * 128 + 128 + 128 * 10 + 10\n",
    "\n",
    "#compressed\n",
    "compressed = 14 * 14 * 128 + 128 + 128 * 10 + 10\n",
    "\n",
    "print(\"Total Trainable Parameters\\n\")\n",
    "print(\"Original: {}\\nCompressed: {}\".format(original, compressed))\n",
    "print(\"Compressed is {} times smaller than the original\".format(round(original/compressed, 2)))"
   ]
  },
  {
   "cell_type": "code",
   "execution_count": null,
   "id": "3044b64d",
   "metadata": {},
   "outputs": [],
   "source": []
  }
 ],
 "metadata": {
  "kernelspec": {
   "display_name": "Python 3",
   "language": "python",
   "name": "python3"
  },
  "language_info": {
   "codemirror_mode": {
    "name": "ipython",
    "version": 3
   },
   "file_extension": ".py",
   "mimetype": "text/x-python",
   "name": "python",
   "nbconvert_exporter": "python",
   "pygments_lexer": "ipython3",
   "version": "3.8.8"
  }
 },
 "nbformat": 4,
 "nbformat_minor": 5
}
